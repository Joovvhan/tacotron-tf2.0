{
 "cells": [
  {
   "cell_type": "code",
   "execution_count": 9,
   "metadata": {},
   "outputs": [],
   "source": [
    "import tensorflow as tf\n",
    "import numpy as np"
   ]
  },
  {
   "cell_type": "code",
   "execution_count": null,
   "metadata": {},
   "outputs": [],
   "source": []
  },
  {
   "cell_type": "code",
   "execution_count": 1,
   "metadata": {},
   "outputs": [],
   "source": [
    "# def create_model():\n",
    "#     IMG_SHAPE = (256, 256, 3)\n",
    "#     img_inputs = tf.keras.Input(shape=IMG_SHAPE)\n",
    "#     conv_1 = tf.keras.layers.Conv2D(32, (3, 3), activation='relu')(img_inputs)\n",
    "#     maxpool_1 = tf.keras.layers.MaxPooling2D((2, 2))(conv_1)\n",
    "#     conv_2 = tf.keras.layers.Conv2D(64, (3, 3), activation='relu')(maxpool_1)\n",
    "#     maxpool_2 = tf.keras.layers.MaxPooling2D((2, 2))(conv_2)\n",
    "#     conv_3 = tf.keras.layers.Conv2D(64, (3, 3), activation='relu')(maxpool_2)\n",
    "#     flatten = tf.keras.layers.Flatten()(conv_3)\n",
    "#     dense_1 = tf.keras.layers.Dense(64, activation='relu')(flatten)\n",
    "#     output = tf.keras.layers.Dense(10, activation='softmax')(dense_1)\n",
    "\n",
    "#     model = tf.keras.Model(inputs=img_inputs, outputs=output)\n",
    "    \n",
    "#     return model"
   ]
  },
  {
   "cell_type": "code",
   "execution_count": 14,
   "metadata": {},
   "outputs": [],
   "source": [
    "casual_conv_layers = []\n",
    "\n",
    "for i in range(0, 10):\n",
    "    \n",
    "    if i == 0:\n",
    "        conv1d = tf.keras.layers.Conv1D(filters=1, kernel_size=2, dilation_rate=2**i, padding='same', input_shape=[2**10, 1],\n",
    "        activation=\"softmax\",use_bias=True)\n",
    "    else:\n",
    "        conv1d = tf.keras.layers.Conv1D(filters=1, kernel_size=2, dilation_rate=2**i, padding='same', input_shape=[2**10, 1],\n",
    "        activation=\"softmax\",use_bias=True)\n",
    "\n",
    "    casual_conv_layers.append(conv1d)\n"
   ]
  },
  {
   "cell_type": "code",
   "execution_count": 16,
   "metadata": {
    "scrolled": false
   },
   "outputs": [
    {
     "name": "stdout",
     "output_type": "stream",
     "text": [
      "Model: \"sequential_4\"\n",
      "_________________________________________________________________\n",
      "Layer (type)                 Output Shape              Param #   \n",
      "=================================================================\n",
      "conv1d_30 (Conv1D)           (None, 1024, 1)           3         \n",
      "_________________________________________________________________\n",
      "conv1d_31 (Conv1D)           (None, None, 1)           3         \n",
      "_________________________________________________________________\n",
      "conv1d_32 (Conv1D)           (None, None, 1)           3         \n",
      "_________________________________________________________________\n",
      "conv1d_33 (Conv1D)           (None, None, 1)           3         \n",
      "_________________________________________________________________\n",
      "conv1d_34 (Conv1D)           (None, None, 1)           3         \n",
      "_________________________________________________________________\n",
      "conv1d_35 (Conv1D)           (None, None, 1)           3         \n",
      "_________________________________________________________________\n",
      "conv1d_36 (Conv1D)           (None, None, 1)           3         \n",
      "_________________________________________________________________\n",
      "conv1d_37 (Conv1D)           (None, None, 1)           3         \n",
      "_________________________________________________________________\n",
      "conv1d_38 (Conv1D)           (None, None, 1)           3         \n",
      "_________________________________________________________________\n",
      "conv1d_39 (Conv1D)           (None, None, 1)           3         \n",
      "=================================================================\n",
      "Total params: 30\n",
      "Trainable params: 30\n",
      "Non-trainable params: 0\n",
      "_________________________________________________________________\n"
     ]
    }
   ],
   "source": [
    "model = tf.keras.Sequential(casual_conv_layers)\n",
    "# model.add(casual_conv_layers)\n",
    "model.summary()"
   ]
  },
  {
   "cell_type": "code",
   "execution_count": 18,
   "metadata": {
    "scrolled": false
   },
   "outputs": [],
   "source": [
    "x_train = np.asarray(np.random.random(4 * 1024).reshape(4, 1024, 1).astype(np.float32))\n",
    "y = model(x_train)"
   ]
  },
  {
   "cell_type": "code",
   "execution_count": 20,
   "metadata": {},
   "outputs": [
    {
     "data": {
      "text/plain": [
       "TensorShape([4, 1024, 1])"
      ]
     },
     "execution_count": 20,
     "metadata": {},
     "output_type": "execute_result"
    }
   ],
   "source": [
    "y.shape"
   ]
  }
 ],
 "metadata": {
  "kernelspec": {
   "display_name": "Python 3",
   "language": "python",
   "name": "python3"
  },
  "language_info": {
   "codemirror_mode": {
    "name": "ipython",
    "version": 3
   },
   "file_extension": ".py",
   "mimetype": "text/x-python",
   "name": "python",
   "nbconvert_exporter": "python",
   "pygments_lexer": "ipython3",
   "version": "3.6.8"
  }
 },
 "nbformat": 4,
 "nbformat_minor": 2
}
