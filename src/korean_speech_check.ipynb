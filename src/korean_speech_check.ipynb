{
 "cells": [
  {
   "cell_type": "code",
   "execution_count": 3,
   "metadata": {},
   "outputs": [],
   "source": [
    "import librosa\n",
    "import numpy as np\n",
    "import scipy as sp\n",
    "import matplotlib.pyplot as plt\n",
    "import os\n",
    "from tqdm import tqdm_notebook as tqdm"
   ]
  },
  {
   "cell_type": "code",
   "execution_count": 4,
   "metadata": {},
   "outputs": [
    {
     "name": "stdout",
     "output_type": "stream",
     "text": [
      "(12853, 5)\n",
      "(12833, 5)\n"
     ]
    }
   ],
   "source": [
    "meta_path = \"D:/korean-single-speaker-speech-dataset/transcript.v.1.2.txt\"\n",
    "\n",
    "\n",
    "with open(meta_path, encoding='utf-8') as f:\n",
    "    metadata = np.array([line.strip().split('|') for line in f])\n",
    "#     hours = sum((int(x[2]) for x in metadata)) * frame_shift_ms / (3600 * 1000)\n",
    "#     log('Loaded metadata for %d examples (%.2f hours)' % (len(metadata), hours))\n",
    "\n",
    "# metadata = metadata[:32, :2]\n",
    "\n",
    "max_sequence_len = max(list(map(len, metadata[:, 1])))\n",
    "\n",
    "error_jamos = [5868, 5998, 6046, 6155, 6202, \n",
    "               6654, 6890, 7486, 7502, 7744, \n",
    "               7765, 8267, 9069, 9927, 10437, \n",
    "               10515, 10533, 10606, 10610, 12777]\n",
    "\n",
    "print(metadata.shape)\n",
    "metadata = np.delete(metadata, error_jamos, axis = 0)\n",
    "print(metadata.shape)\n",
    "\n",
    "dataset_size = len(metadata)"
   ]
  },
  {
   "cell_type": "code",
   "execution_count": 5,
   "metadata": {},
   "outputs": [],
   "source": [
    "character_length = list()\n",
    "file_length = list()\n",
    "division_length = list()\n",
    "unicode_jamo_list = list()\n",
    "\n",
    "for i in range(len(metadata)):\n",
    "    character_length.append(len(metadata[i, 3]))\n",
    "    file_length.append(float(metadata[i, 4]))\n",
    "    division_length.append(float(metadata[i, 4]) * 1000 / len(metadata[i, 3]))\n",
    "    \n",
    "#     if i not in error_jamos:\n",
    "    for char in metadata[i, 3]:\n",
    "        if char not in unicode_jamo_list:\n",
    "            unicode_jamo_list.append(char)"
   ]
  },
  {
   "cell_type": "code",
   "execution_count": 6,
   "metadata": {},
   "outputs": [],
   "source": [
    "wave_name_list = []\n",
    "\n",
    "for data in metadata:\n",
    "    wave_name_list.append(data[0])\n",
    "    \n",
    "data_folder = \"D:/korean-single-speaker-speech-dataset/kss\""
   ]
  },
  {
   "cell_type": "code",
   "execution_count": 7,
   "metadata": {
    "scrolled": false
   },
   "outputs": [
    {
     "data": {
      "application/vnd.jupyter.widget-view+json": {
       "model_id": "bc0454d4ab0d43edaee53e33445b29c2",
       "version_major": 2,
       "version_minor": 0
      },
      "text/plain": [
       "HBox(children=(IntProgress(value=1, bar_style='info', max=1), HTML(value='')))"
      ]
     },
     "metadata": {},
     "output_type": "display_data"
    },
    {
     "name": "stdout",
     "output_type": "stream",
     "text": [
      "\n"
     ]
    }
   ],
   "source": [
    "n_mels = 80\n",
    "fs = 22050\n",
    "frame_length_ms=50\n",
    "frame_shift_ms=12.5\n",
    "nsc = int(22050 * frame_length_ms / 1000)\n",
    "nov = nsc - int(22050 * frame_shift_ms / 1000)\n",
    "nhop = int(22050 * frame_shift_ms / 1000)\n",
    "eps = 1e-10\n",
    "db_ref = 100\n",
    "\n",
    "mel_folder = \"D:/korean-single-speaker-speech-dataset/kss/mels\"\n",
    "\n",
    "ratio = list()\n",
    "\n",
    "for i, wav_name in tqdm(enumerate(wave_name_list)):\n",
    "#     wav_path = os.path.join(data_folder, wav_name)\n",
    "    \n",
    "#     npy_name = wav_name.replace('.wav', '.npy')\n",
    "    \n",
    "#     y, sr = librosa.core.load(wav_path)\n",
    "    \n",
    "#     f, t, Zxx = sp.signal.stft(y, fs=sr, nperseg=nsc, noverlap=nov)\n",
    "\n",
    "#     Sxx = np.abs(Zxx)\n",
    "#     Sxx = np.maximum(Sxx, eps)\n",
    "\n",
    "#     mel_filters = librosa.filters.mel(sr=fs, n_fft=nsc, n_mels=n_mels)\n",
    "\n",
    "#     mel_specgram = np.matmul(mel_filters, Sxx)\n",
    "\n",
    "#     log_specgram = 20*np.log10(Sxx)\n",
    "\n",
    "#     norm_log_specgram = (log_specgram + db_ref) / db_ref\n",
    "\n",
    "#     log_mel_specgram = 20 * np.log10(np.maximum(mel_specgram, eps))\n",
    "\n",
    "#     norm_log_mel_specgram = (log_mel_specgram + db_ref) / db_ref\n",
    "    \n",
    "    mel_path = os.path.join(mel_folder, wav_name.replace('.wav', '.npy'))\n",
    "    mel_target = np.load(mel_path)\n",
    "    \n",
    "#     np.save(specgram_path, norm_log_specgram)\n",
    "#     np.save(mel_path, norm_log_mel_specgram)\n",
    "#     np.save(specgram_path, Sxx)\n",
    "#     np.save(mel_path, norm_log_mel_specgram)\n",
    "    \n",
    "#     print(norm_log_mel_specgram.shape[1])\n",
    "\n",
    "#     fig = plt.figure(figsize=(18, 6))\n",
    "#     ax = fig.add_subplot(211)\n",
    "#     plt.imshow(log_specgram, origin='lower', aspect='auto')\n",
    "#     plt.colorbar()\n",
    "    \n",
    "#     ax2 = fig.add_subplot(212)\n",
    "# #     plt.figure(figsize=(16,9))\n",
    "#     plt.imshow(norm_log_mel_specgram, origin='lower', aspect='auto')\n",
    "#     plt.colorbar()\n",
    "#     plt.show()    \n",
    "    \n",
    "#     print(list(metadata[i][3]))\n",
    "    \n",
    "    ratio.append(mel_target.shape[1]/ len(metadata[i][3]))\n"
   ]
  },
  {
   "cell_type": "code",
   "execution_count": 9,
   "metadata": {},
   "outputs": [
    {
     "name": "stdout",
     "output_type": "stream",
     "text": [
      "12833\n"
     ]
    },
    {
     "data": {
      "text/plain": [
       "(array([0.000e+00, 0.000e+00, 0.000e+00, 1.000e+00, 2.300e+01, 4.770e+02,\n",
       "        2.915e+03, 4.343e+03, 2.759e+03, 1.280e+03, 5.090e+02, 2.240e+02,\n",
       "        1.220e+02, 5.800e+01, 3.600e+01, 3.000e+01, 1.700e+01, 1.300e+01,\n",
       "        3.000e+00, 2.000e+00]),\n",
       " array([ 0,  1,  2,  3,  4,  5,  6,  7,  8,  9, 10, 11, 12, 13, 14, 15, 16,\n",
       "        17, 18, 19, 20]),\n",
       " <a list of 20 Patch objects>)"
      ]
     },
     "execution_count": 9,
     "metadata": {},
     "output_type": "execute_result"
    },
    {
     "data": {
      "image/png": "[encoded data removed]",
      "text/plain": [
       "<Figure size 1152x648 with 1 Axes>"
      ]
     },
     "metadata": {
      "needs_background": "light"
     },
     "output_type": "display_data"
    }
   ],
   "source": [
    "plt.figure(figsize=(16,9))\n",
    "print(len(ratio))\n",
    "\n",
    "plt.hist(ratio, [0, 1, 2, 3, 4, 5, 6, 7, 8, 9, 10, 11, 12, 13, 14, 15, 16, 17, 18, 19, 20])"
   ]
  }
 ],
 "metadata": {
  "kernelspec": {
   "display_name": "Python 3",
   "language": "python",
   "name": "python3"
  },
  "language_info": {
   "codemirror_mode": {
    "name": "ipython",
    "version": 3
   },
   "file_extension": ".py",
   "mimetype": "text/x-python",
   "name": "python",
   "nbconvert_exporter": "python",
   "pygments_lexer": "ipython3",
   "version": "3.6.8"
  }
 },
 "nbformat": 4,
 "nbformat_minor": 2
}
